{
  "nbformat": 4,
  "nbformat_minor": 0,
  "metadata": {
    "colab": {
      "name": "Prediction of Toy Cipher",
      "provenance": [],
      "collapsed_sections": []
    },
    "kernelspec": {
      "display_name": "Python 3",
      "name": "python3"
    }
  },
  "cells": [
    {
      "cell_type": "code",
      "metadata": {
        "colab": {
          "base_uri": "https://localhost:8080/"
        },
        "id": "vwSw8INOSUty",
        "outputId": "32189c20-c81a-4c05-8aa3-7070eb2bd167"
      },
      "source": [
        "# Use seaborn for pairplot\n",
        "!pip install -q seaborn\n",
        "\n",
        "# Use some functions from tensorflow_docs\n",
        "!pip install -q git+https://github.com/tensorflow/docs"
      ],
      "execution_count": null,
      "outputs": [
        {
          "output_type": "stream",
          "text": [
            "  Building wheel for tensorflow-docs (setup.py) ... \u001b[?25l\u001b[?25hdone\n"
          ],
          "name": "stdout"
        }
      ]
    },
    {
      "cell_type": "code",
      "metadata": {
        "id": "xoEVS6pnS8aP"
      },
      "source": [
        "import pathlib\n",
        "\n",
        "import matplotlib.pyplot as plt\n",
        "import numpy as np\n",
        "import pandas as pd\n",
        "import seaborn as sns\n",
        "import IPython"
      ],
      "execution_count": null,
      "outputs": []
    },
    {
      "cell_type": "code",
      "metadata": {
        "id": "yuFNpYuLTG7T"
      },
      "source": [
        "import tensorflow as tf\n",
        "!pip install -q -U keras-tuner\n",
        "import kerastuner as kt\n",
        "from tensorflow import keras\n",
        "from tensorflow.keras import layers\n",
        "\n",
        "print(tf.__version__)"
      ],
      "execution_count": null,
      "outputs": []
    },
    {
      "cell_type": "code",
      "metadata": {
        "id": "PnNIsFK0TNdv"
      },
      "source": [
        "import tensorflow_docs as tfdocs\n",
        "import tensorflow_docs.plots\n",
        "import tensorflow_docs.modeling"
      ],
      "execution_count": null,
      "outputs": []
    },
    {
      "cell_type": "code",
      "metadata": {
        "id": "zm0rkw5En3Vg"
      },
      "source": [
        "\n",
        "train_dataset = pd.read_csv('')\n",
        "test_dataset = pd.read_csv('')"
      ],
      "execution_count": null,
      "outputs": []
    },
    {
      "cell_type": "code",
      "metadata": {
        "id": "64Ez6umTVNaj"
      },
      "source": [
        "train_labels = train_dataset.pop(\"sboxes\")\n",
        "test_labels = test_dataset.pop(\"sboxes\")"
      ],
      "execution_count": null,
      "outputs": []
    },
    {
      "cell_type": "code",
      "metadata": {
        "id": "yrUfzxnvRFMw"
      },
      "source": [
        "from keras import backend as K\n",
        "from tensorflow.python.framework import ops\n",
        "from tensorflow.python.ops import math_ops\n",
        "def root_mean_squared_error(y_true, y_pred):\n",
        "        y_pred = ops.convert_to_tensor_v2(y_pred)\n",
        "        y_true = math_ops.cast(y_true, y_pred.dtype)\n",
        "        return K.sqrt(K.mean(K.square(y_pred - y_true))) "
      ],
      "execution_count": null,
      "outputs": []
    },
    {
      "cell_type": "code",
      "metadata": {
        "id": "4Z-a0JlTRLLf"
      },
      "source": [
        "def R_squared(y, y_pred):\n",
        "  y_pred = ops.convert_to_tensor_v2(y_pred)\n",
        "  y = math_ops.cast(y, y_pred.dtype)  \n",
        "  residual = tf.reduce_sum(tf.square(tf.subtract(y,y_pred)))\n",
        "  total = tf.reduce_sum(tf.square(tf.subtract(y, tf.reduce_mean(y))))\n",
        "  r2 = tf.subtract(1.0, tf.math.divide(residual, total))\n",
        "  return r2"
      ],
      "execution_count": null,
      "outputs": []
    },
    {
      "cell_type": "code",
      "metadata": {
        "id": "yKBZhxqQZuxO"
      },
      "source": [
        "def quantile(self, y_true, y_pred):\n",
        "        logits_pred = y_pred\n",
        "        theta_target = y_true\n",
        "        \n",
        "        theta_pred = tf.reduce_sum(tf.multiply(self.action_binary_loss , logits_pred), axis=1)\n",
        "        \n",
        "        theta_target_tile = tf.tile(tf.expand_dims(theta_target, axis=2), [1, 1, self.n_quantiles])\n",
        "        theta_pred_tile = tf.tile(tf.expand_dims(theta_pred, axis=1), [1, self.n_quantiles, 1])\n",
        "        \n",
        "        error_loss = self.theta_target_tile - self.theta_pred_tile        \n",
        "        huber_loss = self.HuberLoss(theta_target_tile, theta_pred_tile)\n",
        "       \n",
        "        min_tau = 1 / (2 * self.n_quantiles)\n",
        "        max_tau = (2*self.n_quantiles +1) / (2*self.n_quantiles)\n",
        "        \n",
        "        tau = tf.reshape(tf.range(min_tau, max_tau, 1/self.n_quantiles), [1, self.n_quantiles])\n",
        "        inv_tau = 1.0 - tau\n",
        "        \n",
        "        Loss = tf.where(tf.less(error_loss, 0.0), inv_tau * huber_loss, tau* huber_loss)\n",
        "        Loss = tf.reduce_mean(tf.reduce_sum(tf.reduce_mean(Loss, axis=2), axis=1))\n",
        "        \n",
        "        return Loss"
      ],
      "execution_count": null,
      "outputs": []
    },
    {
      "cell_type": "code",
      "metadata": {
        "id": "OvDHgFoBaM8T"
      },
      "source": [
        "def above_percentile(x, p): #assuming the input is flattened: (n,)\n",
        "\n",
        "    samples = K.cast(K.shape(x)[0], K.floatx()) #batch size\n",
        "    p =  (100. - p)/100.  #100% will return 0 elements, 0% will return all elements\n",
        "\n",
        "    #samples to get:\n",
        "    samples = K.cast(tf.math.floor(p * samples), 'int32')\n",
        "        #you can choose tf.math.ceil above, it depends on whether you want to\n",
        "        #include or exclude one element. Suppose you you want 33% top,\n",
        "        #but it's only possible to get exactly 30% or 40% top:\n",
        "        #floor will get 30% top and ceil will get 40% top.\n",
        "        #(exact matches included in both cases)\n",
        "\n",
        "    #selected samples\n",
        "    values, indices = tf.math.top_k(x, samples)\n",
        "\n",
        "    return values\n",
        "\n",
        "def custom_loss(p):\n",
        "    def loss(y_true, y_predicted):\n",
        "        y_predicted = ops.convert_to_tensor_v2(y_predicted)\n",
        "        y_true = math_ops.cast(y_true, y_predicted.dtype)  \n",
        "        ses = K.square(y_true-y_predicted)\n",
        "        above = above_percentile(K.flatten(ses), p)\n",
        "        return K.mean(above)\n",
        "    return loss"
      ],
      "execution_count": null,
      "outputs": []
    },
    {
      "cell_type": "code",
      "metadata": {
        "id": "9zVLAfz0Wwpc"
      },
      "source": [
        "def build_model():\n",
        "  model = keras.Sequential([\n",
        "    layers.Dense(64, activation='elu', input_shape=[len(train_dataset.keys())], kernel_initializer='he_uniform'),\n",
        "    layers.Dense(64, activation='elu'),\n",
        "    layers.Dense(64, activation='elu'),\n",
        "    layers.Dense(64, activation='elu'),\n",
        "    layers.Dense(64, activation='elu'),\n",
        "    layers.Dense(1)\n",
        "  ])\n",
        "\n",
        "  optimizer = tf.keras.optimizers.Adam(learning_rate=0.001)\n",
        "  model.compile(loss=root_mean_squared_error,\n",
        "                optimizer=optimizer,\n",
        "                metrics=['mae',root_mean_squared_error,R_squared])\n",
        "  return model"
      ],
      "execution_count": null,
      "outputs": []
    },
    {
      "cell_type": "code",
      "metadata": {
        "id": "UUxKG-4lW5gW"
      },
      "source": [
        "model = build_model()\n"
      ],
      "execution_count": null,
      "outputs": []
    },
    {
      "cell_type": "code",
      "metadata": {
        "id": "Rf-_Yl7WW_X0"
      },
      "source": [
        "model.summary()"
      ],
      "execution_count": null,
      "outputs": []
    },
    {
      "cell_type": "code",
      "metadata": {
        "id": "DMPLpil2Xc_d"
      },
      "source": [
        "EPOCHS =200\n",
        "\n",
        "history = model.fit(\n",
        "  train_dataset, train_labels, shuffle=True, \n",
        "  epochs=EPOCHS, batch_size=32, validation_batch_size=None, validation_split = 0.2, verbose=0,\n",
        "  callbacks=[tfdocs.modeling.EpochDots()])\n",
        "IPython.display.clear_output(wait = True)"
      ],
      "execution_count": null,
      "outputs": []
    },
    {
      "cell_type": "code",
      "metadata": {
        "id": "KJgqvQ1CX6d2"
      },
      "source": [
        "hist = pd.DataFrame(history.history)\n",
        "hist['epoch'] = history.epoch\n",
        "hist.tail()"
      ],
      "execution_count": null,
      "outputs": []
    },
    {
      "cell_type": "code",
      "metadata": {
        "id": "q9w7002FYG9N"
      },
      "source": [
        "plotter = tfdocs.plots.HistoryPlotter(smoothing_std=2)"
      ],
      "execution_count": null,
      "outputs": []
    },
    {
      "cell_type": "code",
      "metadata": {
        "id": "VuLHxajQYK29"
      },
      "source": [
        "plotter.plot({'Basic': history}, metric = \"mae\")\n",
        "plt.ylim([0, 10])\n",
        "plt.ylabel('MAE [ActiveSboxes]')"
      ],
      "execution_count": null,
      "outputs": []
    },
    {
      "cell_type": "code",
      "metadata": {
        "id": "kAyuBpJ4ZL57"
      },
      "source": [
        "loss,mae,root_mean_squared_error,R_squared= model.evaluate(test_dataset, test_labels,batch_size= None,\n",
        "   verbose=2,\n",
        "  callbacks=[tfdocs.modeling.EpochDots()])\n",
        "\n",
        "print(\"Testing set Mean Abs Error: {:5.2f} ActiveSboxes\".format(mae))\n",
        "print(\"Testing set Root Mean  Square Error: {:5.2f} ActiveSboxes\".format(root_mean_squared_error))\n",
        "print(\"Testing set R Square: {:5.2f} ActiveSboxes\".format(R_squared))"
      ],
      "execution_count": null,
      "outputs": []
    },
    {
      "cell_type": "code",
      "metadata": {
        "id": "Arxf5jEJZTKe"
      },
      "source": [
        "\n",
        "test_predictions = model.predict(test_dataset).flatten()\n",
        "\n",
        "a = plt.axes(aspect='equal')\n",
        "plt.scatter(test_labels, test_predictions)\n",
        "plt.xlabel('True Values [ActiveSboxes]')\n",
        "plt.ylabel('Predictions [ActiveSboxes]')\n",
        "lims = [0, 60]\n",
        "plt.xlim(lims)\n",
        "plt.ylim(lims)\n",
        "_ = plt.plot(lims, lims)"
      ],
      "execution_count": null,
      "outputs": []
    }
  ]
}
